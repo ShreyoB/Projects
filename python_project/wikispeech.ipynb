{
 "cells": [
  {
   "cell_type": "code",
   "execution_count": 2,
   "metadata": {},
   "outputs": [],
   "source": [
    "import pyttsx3\n",
    "import wikipedia"
   ]
  },
  {
   "cell_type": "code",
   "execution_count": 4,
   "metadata": {},
   "outputs": [
    {
     "name": "stdout",
     "output_type": "stream",
     "text": [
      "YouTube is an American online video sharing and social media platform owned by Google.\n"
     ]
    }
   ],
   "source": [
    "# Initialize the text-to-speech engine\n",
    "voice = pyttsx3.init()\n",
    "\n",
    "# Input topic from Wikipedia\n",
    "topic_input = input(\"Enter the topic from Wikipedia you want to hear: \")\n",
    "\n",
    "try:\n",
    "    # Get summary of the topic from Wikipedia\n",
    "    result = wikipedia.summary(topic_input, sentences=1)\n",
    "    print(result)\n",
    "\n",
    "    # Convert the summary to speech and play it\n",
    "    voice.say(result)\n",
    "    voice.runAndWait()\n",
    "    \n",
    "except wikipedia.exceptions.PageError:\n",
    "    print(\"Sorry, the topic '{}' does not exist on Wikipedia.\".format(topic_input))\n",
    "except Exception as e:\n",
    "    print(\"An error occurred:\", e)\n"
   ]
  }
 ],
 "metadata": {
  "kernelspec": {
   "display_name": "Python 3",
   "language": "python",
   "name": "python3"
  },
  "language_info": {
   "codemirror_mode": {
    "name": "ipython",
    "version": 3
   },
   "file_extension": ".py",
   "mimetype": "text/x-python",
   "name": "python",
   "nbconvert_exporter": "python",
   "pygments_lexer": "ipython3",
   "version": "3.11.9"
  }
 },
 "nbformat": 4,
 "nbformat_minor": 2
}
