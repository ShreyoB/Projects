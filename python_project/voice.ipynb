{
 "cells": [
  {
   "cell_type": "code",
   "execution_count": 1,
   "metadata": {},
   "outputs": [],
   "source": [
    "import speech_recognition as sr\n",
    "import webbrowser"
   ]
  },
  {
   "cell_type": "code",
   "execution_count": 4,
   "metadata": {},
   "outputs": [
    {
     "name": "stdout",
     "output_type": "stream",
     "text": [
      "Please speak loudly...\n",
      "Can't recognize your voice, please speak clearly...\n"
     ]
    }
   ],
   "source": [
    "# Create a Recognizer instance and set the energy threshold for detecting speech\n",
    "r = sr.Recognizer()\n",
    "r.energy_threshold = 5000\n",
    "\n",
    "# Register Firefox as the browser\n",
    "webbrowser.register('firefox', None, webbrowser.BackgroundBrowser(\"C:/Program Files/Mozilla Firefox/firefox.exe\"))\n",
    "\n",
    "# Use the microphone as the audio source\n",
    "with sr.Microphone() as source:\n",
    "    print(\"Please speak loudly...\")\n",
    "\n",
    "    # Listen for audio input from the microphone\n",
    "    audio = r.listen(source)\n",
    "\n",
    "    try:\n",
    "        # Recognize speech using Google Web Speech API\n",
    "        text = r.recognize_google(audio)\n",
    "        print(\"You said: {}\".format(text))\n",
    "\n",
    "        # Check if the input contains \".com\"\n",
    "        if \".\" in text.lower():\n",
    "            # If \".com\" is present, treat it as a website URL\n",
    "            url = text\n",
    "        else:\n",
    "            # Otherwise, treat it as a regular search query and construct the URL\n",
    "            url = 'https://duckduckgo.com/?q=' + text\n",
    "\n",
    "        # Open the URL in Firefox\n",
    "        webbrowser.get('firefox').open(url)\n",
    "\n",
    "    except sr.UnknownValueError:\n",
    "        # Handle speech recognition errors\n",
    "        print(\"Can't recognize your voice, please speak clearly...\")\n",
    "    except Exception as e:\n",
    "        # Handle other exceptions\n",
    "        print(f\"An error occurred: {e}\")\n"
   ]
  }
 ],
 "metadata": {
  "kernelspec": {
   "display_name": "Python 3",
   "language": "python",
   "name": "python3"
  },
  "language_info": {
   "codemirror_mode": {
    "name": "ipython",
    "version": 3
   },
   "file_extension": ".py",
   "mimetype": "text/x-python",
   "name": "python",
   "nbconvert_exporter": "python",
   "pygments_lexer": "ipython3",
   "version": "3.11.9"
  }
 },
 "nbformat": 4,
 "nbformat_minor": 2
}
