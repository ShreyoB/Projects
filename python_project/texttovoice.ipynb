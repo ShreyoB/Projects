{
 "cells": [
  {
   "cell_type": "code",
   "execution_count": 2,
   "metadata": {},
   "outputs": [],
   "source": [
    "# Utilizes Google Text To Speech (gtts) for converting text into speech.\n",
    "from gtts import gTTS\n",
    "import os\n",
    "import pyttsx3"
   ]
  },
  {
   "cell_type": "code",
   "execution_count": 3,
   "metadata": {},
   "outputs": [
    {
     "data": {
      "text/plain": [
       "0"
      ]
     },
     "execution_count": 3,
     "metadata": {},
     "output_type": "execute_result"
    }
   ],
   "source": [
    "# Saves the synthesized speech to a file and then plays it using the system's default audio player.\n",
    "# Set language for text-to-speech conversion and input text to be converted\n",
    "language = \"en\"\n",
    "text = input(\"Enter the text to convert to speech: \")\n",
    "\n",
    "# Create a speech object with the specified text and language\n",
    "speech = gTTS(text=text, lang=language, slow=False, tld=\"co.in\")\n",
    "\n",
    "# Save the speech to an MP3 file and play it using the system's default media player\n",
    "speech.save(\"AssistantVoice.mp3\")\n",
    "os.system(\"AssistantVoice.mp3\")\n",
    "\n"
   ]
  },
  {
   "cell_type": "code",
   "execution_count": 6,
   "metadata": {},
   "outputs": [],
   "source": [
    "#Directly plays the synthesized speech without saving it to a file\n",
    "import pyttsx3\n",
    "\n",
    "# Initialize the speech engine and set voice properties\n",
    "engine = pyttsx3.init()\n",
    "engine.setProperty('gender', 'male')\n",
    "\n",
    "# Input text to be converted to speech\n",
    "text = input(\"Enter the text you want to convert to speech: \")\n",
    "\n",
    "# Set the speech rate (words per minute)\n",
    "engine.setProperty('rate', 150)\n",
    "\n",
    "# Convert text to speech and play it\n",
    "engine.say(text)\n",
    "engine.runAndWait()\n"
   ]
  }
 ],
 "metadata": {
  "kernelspec": {
   "display_name": "Python 3",
   "language": "python",
   "name": "python3"
  },
  "language_info": {
   "codemirror_mode": {
    "name": "ipython",
    "version": 3
   },
   "file_extension": ".py",
   "mimetype": "text/x-python",
   "name": "python",
   "nbconvert_exporter": "python",
   "pygments_lexer": "ipython3",
   "version": "3.11.9"
  }
 },
 "nbformat": 4,
 "nbformat_minor": 2
}
